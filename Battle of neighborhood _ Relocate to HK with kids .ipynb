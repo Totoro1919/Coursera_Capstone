{
    "cells": [
        {
            "cell_type": "markdown",
            "metadata": {
                "collapsed": true
            },
            "source": "# 1. Introduction\n\n## 1.1 Background Information"
        },
        {
            "cell_type": "markdown",
            "metadata": {},
            "source": "Hong Kong tops one of the relocation destination for working professionals who seek experience outside their home country. Some reasons for this are because of the higher salary packages, better career progression as many MNCs\u2019 regional headquarters are situated here. I just relocated to Hong Kong as my husband was posted here. We encountered great difficulty in finding a full-day childcare for our 2 year old daughter. The public schools are mainly conducted in Cantonese and given that we do not speak this language, we are limited to private international schools. For her age, the pre-nursery classes are usually conducted only for half-day and many families have a domestic helper to help out with the child during the day while they are at home. We did not want to engage in a domestic helper and I would not wish either to be a full-time housewife so we really needed a school that can take her in. Eventually we found something and all works out fine."
        },
        {
            "cell_type": "markdown",
            "metadata": {},
            "source": "## 1.2 Problem Statement"
        },
        {
            "cell_type": "markdown",
            "metadata": {},
            "source": "How can we help a newly relocated family find the right area to live in? In this project, we will try to investigate the most optimal location in Hong Kong where families can have accessibility to international school, possibly having a variety of restaurants nearby and a convenient journey to central business district in Hong Kong.\n"
        },
        {
            "cell_type": "markdown",
            "metadata": {},
            "source": "## 1.3 Target Audience"
        },
        {
            "cell_type": "markdown",
            "metadata": {},
            "source": "This report is an analysis of kindergarten-cum-child care centers in Hong Kong as of November 2020 and would be useful for new arrived families with young kids or investors who wants to set up a childcare in Hong Kong. For the former we will provide  suggestions on where to stay and the latter, we will recommend places where there is a lack of international child care centers."
        },
        {
            "cell_type": "markdown",
            "metadata": {},
            "source": "\n# 2. Data\n## 2.1 Data Require"
        },
        {
            "cell_type": "markdown",
            "metadata": {},
            "source": "\u2022\tkindergarten-cum-child care centers lisiting from Social Welfare Department website\n\u2022\tNumber of venues including restaurants, shopping malls, etc in the neighborhood"
        },
        {
            "cell_type": "code",
            "execution_count": null,
            "metadata": {},
            "outputs": [],
            "source": "2.2 Data Sources\nIn this project, we will be using free public available dataset. Below is the link to the dataset.\n\u2022\tList of kindergarten-cum-child care centres in Hong Kong (as of Novemeber 2020)\n\u2022\tFoursquare API to extract data on venues in a neighbourhood"
        },
        {
            "cell_type": "code",
            "execution_count": null,
            "metadata": {},
            "outputs": [],
            "source": ""
        },
        {
            "cell_type": "code",
            "execution_count": null,
            "metadata": {},
            "outputs": [],
            "source": ""
        }
    ],
    "metadata": {
        "kernelspec": {
            "display_name": "Python 3.7",
            "language": "python",
            "name": "python3"
        },
        "language_info": {
            "codemirror_mode": {
                "name": "ipython",
                "version": 3
            },
            "file_extension": ".py",
            "mimetype": "text/x-python",
            "name": "python",
            "nbconvert_exporter": "python",
            "pygments_lexer": "ipython3",
            "version": "3.7.9"
        }
    },
    "nbformat": 4,
    "nbformat_minor": 1
}